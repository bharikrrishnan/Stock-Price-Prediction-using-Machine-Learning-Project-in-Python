{
 "cells": [
  {
   "cell_type": "code",
   "execution_count": 2,
   "id": "1dd47b78",
   "metadata": {
    "scrolled": true
   },
   "outputs": [
    {
     "name": "stdout",
     "output_type": "stream",
     "text": [
      "Requirement already satisfied: yfinance in c:\\users\\harikrrishnan\\appdata\\local\\programs\\python\\python310\\lib\\site-packages (0.1.70)\n",
      "Requirement already satisfied: numpy>=1.15 in c:\\users\\harikrrishnan\\appdata\\local\\programs\\python\\python310\\lib\\site-packages (from yfinance) (1.22.3)\n",
      "Requirement already satisfied: pandas>=0.24.0 in c:\\users\\harikrrishnan\\appdata\\local\\programs\\python\\python310\\lib\\site-packages (from yfinance) (1.4.1)\n",
      "Requirement already satisfied: requests>=2.26 in c:\\users\\harikrrishnan\\appdata\\local\\programs\\python\\python310\\lib\\site-packages (from yfinance) (2.27.1)\n",
      "Requirement already satisfied: multitasking>=0.0.7 in c:\\users\\harikrrishnan\\appdata\\local\\programs\\python\\python310\\lib\\site-packages (from yfinance) (0.0.10)\n",
      "Requirement already satisfied: lxml>=4.5.1 in c:\\users\\harikrrishnan\\appdata\\local\\programs\\python\\python310\\lib\\site-packages (from yfinance) (4.8.0)\n",
      "Requirement already satisfied: python-dateutil>=2.8.1 in c:\\users\\harikrrishnan\\appdata\\local\\programs\\python\\python310\\lib\\site-packages (from pandas>=0.24.0->yfinance) (2.8.2)\n",
      "Requirement already satisfied: pytz>=2020.1 in c:\\users\\harikrrishnan\\appdata\\local\\programs\\python\\python310\\lib\\site-packages (from pandas>=0.24.0->yfinance) (2021.3)\n",
      "Requirement already satisfied: six>=1.5 in c:\\users\\harikrrishnan\\appdata\\local\\programs\\python\\python310\\lib\\site-packages (from python-dateutil>=2.8.1->pandas>=0.24.0->yfinance) (1.16.0)\n",
      "Requirement already satisfied: urllib3<1.27,>=1.21.1 in c:\\users\\harikrrishnan\\appdata\\local\\programs\\python\\python310\\lib\\site-packages (from requests>=2.26->yfinance) (1.26.9)\n",
      "Requirement already satisfied: idna<4,>=2.5 in c:\\users\\harikrrishnan\\appdata\\local\\programs\\python\\python310\\lib\\site-packages (from requests>=2.26->yfinance) (3.3)\n",
      "Requirement already satisfied: certifi>=2017.4.17 in c:\\users\\harikrrishnan\\appdata\\local\\programs\\python\\python310\\lib\\site-packages (from requests>=2.26->yfinance) (2021.10.8)\n",
      "Requirement already satisfied: charset-normalizer~=2.0.0 in c:\\users\\harikrrishnan\\appdata\\local\\programs\\python\\python310\\lib\\site-packages (from requests>=2.26->yfinance) (2.0.12)\n"
     ]
    },
    {
     "name": "stderr",
     "output_type": "stream",
     "text": [
      "WARNING: You are using pip version 21.2.4; however, version 22.0.4 is available.\n",
      "You should consider upgrading via the 'C:\\Users\\HARIKRRISHNAN\\AppData\\Local\\Programs\\Python\\Python310\\python.exe -m pip install --upgrade pip' command.\n"
     ]
    }
   ],
   "source": [
    "!pip install yfinance"
   ]
  },
  {
   "cell_type": "code",
   "execution_count": 4,
   "id": "90be62c5",
   "metadata": {},
   "outputs": [],
   "source": [
    "import yfinance as yf"
   ]
  },
  {
   "cell_type": "code",
   "execution_count": 10,
   "id": "a3cca32f",
   "metadata": {},
   "outputs": [
    {
     "name": "stdout",
     "output_type": "stream",
     "text": [
      "[*********************100%***********************]  1 of 1 completed\n"
     ]
    },
    {
     "data": {
      "text/html": [
       "<div>\n",
       "<style scoped>\n",
       "    .dataframe tbody tr th:only-of-type {\n",
       "        vertical-align: middle;\n",
       "    }\n",
       "\n",
       "    .dataframe tbody tr th {\n",
       "        vertical-align: top;\n",
       "    }\n",
       "\n",
       "    .dataframe thead th {\n",
       "        text-align: right;\n",
       "    }\n",
       "</style>\n",
       "<table border=\"1\" class=\"dataframe\">\n",
       "  <thead>\n",
       "    <tr style=\"text-align: right;\">\n",
       "      <th></th>\n",
       "      <th>Open</th>\n",
       "      <th>High</th>\n",
       "      <th>Low</th>\n",
       "      <th>Close</th>\n",
       "      <th>Adj Close</th>\n",
       "      <th>Volume</th>\n",
       "    </tr>\n",
       "    <tr>\n",
       "      <th>Date</th>\n",
       "      <th></th>\n",
       "      <th></th>\n",
       "      <th></th>\n",
       "      <th></th>\n",
       "      <th></th>\n",
       "      <th></th>\n",
       "    </tr>\n",
       "  </thead>\n",
       "  <tbody>\n",
       "    <tr>\n",
       "      <th>2021-12-27</th>\n",
       "      <td>3420.739990</td>\n",
       "      <td>3458.860107</td>\n",
       "      <td>3384.310059</td>\n",
       "      <td>3393.389893</td>\n",
       "      <td>3393.389893</td>\n",
       "      <td>2934400</td>\n",
       "    </tr>\n",
       "    <tr>\n",
       "      <th>2021-12-28</th>\n",
       "      <td>3403.649902</td>\n",
       "      <td>3443.520020</td>\n",
       "      <td>3382.709961</td>\n",
       "      <td>3413.219971</td>\n",
       "      <td>3413.219971</td>\n",
       "      <td>2731900</td>\n",
       "    </tr>\n",
       "    <tr>\n",
       "      <th>2021-12-29</th>\n",
       "      <td>3416.800049</td>\n",
       "      <td>3424.239990</td>\n",
       "      <td>3372.010010</td>\n",
       "      <td>3384.020020</td>\n",
       "      <td>3384.020020</td>\n",
       "      <td>1787700</td>\n",
       "    </tr>\n",
       "    <tr>\n",
       "      <th>2021-12-30</th>\n",
       "      <td>3394.000000</td>\n",
       "      <td>3417.760010</td>\n",
       "      <td>3370.479980</td>\n",
       "      <td>3372.889893</td>\n",
       "      <td>3372.889893</td>\n",
       "      <td>1879200</td>\n",
       "    </tr>\n",
       "    <tr>\n",
       "      <th>2021-12-31</th>\n",
       "      <td>3379.120117</td>\n",
       "      <td>3387.000000</td>\n",
       "      <td>3331.169922</td>\n",
       "      <td>3334.340088</td>\n",
       "      <td>3334.340088</td>\n",
       "      <td>2391500</td>\n",
       "    </tr>\n",
       "  </tbody>\n",
       "</table>\n",
       "</div>"
      ],
      "text/plain": [
       "                   Open         High          Low        Close    Adj Close  \\\n",
       "Date                                                                          \n",
       "2021-12-27  3420.739990  3458.860107  3384.310059  3393.389893  3393.389893   \n",
       "2021-12-28  3403.649902  3443.520020  3382.709961  3413.219971  3413.219971   \n",
       "2021-12-29  3416.800049  3424.239990  3372.010010  3384.020020  3384.020020   \n",
       "2021-12-30  3394.000000  3417.760010  3370.479980  3372.889893  3372.889893   \n",
       "2021-12-31  3379.120117  3387.000000  3331.169922  3334.340088  3334.340088   \n",
       "\n",
       "             Volume  \n",
       "Date                 \n",
       "2021-12-27  2934400  \n",
       "2021-12-28  2731900  \n",
       "2021-12-29  1787700  \n",
       "2021-12-30  1879200  \n",
       "2021-12-31  2391500  "
      ]
     },
     "execution_count": 10,
     "metadata": {},
     "output_type": "execute_result"
    }
   ],
   "source": [
    "start_date = '1990-01-01'\n",
    "end_date = '2022-01-01'\n",
    "\n",
    "ticker = 'AMZN'\n",
    "\n",
    "data = yf.download(ticker, start_date, end_date)\n",
    "\n",
    "data.tail()"
   ]
  },
  {
   "cell_type": "code",
   "execution_count": 21,
   "id": "f61ca5fa",
   "metadata": {},
   "outputs": [],
   "source": [
    "import pandas as pd\n",
    "\n",
    "type(data)\n",
    "\n",
    "data.to_csv('file_name.csv')"
   ]
  }
 ],
 "metadata": {
  "kernelspec": {
   "display_name": "Python 3 (ipykernel)",
   "language": "python",
   "name": "python3"
  },
  "language_info": {
   "codemirror_mode": {
    "name": "ipython",
    "version": 3
   },
   "file_extension": ".py",
   "mimetype": "text/x-python",
   "name": "python",
   "nbconvert_exporter": "python",
   "pygments_lexer": "ipython3",
   "version": "3.10.2"
  }
 },
 "nbformat": 4,
 "nbformat_minor": 5
}
